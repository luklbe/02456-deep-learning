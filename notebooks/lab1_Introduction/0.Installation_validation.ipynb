{
 "cells": [
  {
   "cell_type": "markdown",
   "metadata": {},
   "source": [
    "# Installation Validation\n",
    "This notebook performas a simple naive tests of your setup.\n",
    "If you are able to run the entire notebook without any warnings or errors your installation is most likely correct."
   ]
  },
  {
   "cell_type": "code",
   "execution_count": 5,
   "metadata": {
    "collapsed": true
   },
   "outputs": [],
   "source": [
    "import tensorflow as tf\n",
    "import keras\n",
    "import sys"
   ]
  },
  {
   "cell_type": "code",
   "execution_count": 6,
   "metadata": {},
   "outputs": [
    {
     "name": "stdout",
     "output_type": "stream",
     "text": [
      "Python version:\t\t 3.5.4\n",
      "TensorFlow version:\t 1.3.0\n",
      "Keras version:\t\t 2.0.7\n"
     ]
    }
   ],
   "source": [
    "## Check which versions are installed\n",
    "if sys.version_info < (3,5):\n",
    "    print(\"WARNING: You are using Python version:\", sys.version[:5])\n",
    "    print('The exercises are tested Python 3.5, although we have done our best to support other versions as well.\\n')\n",
    "else:\n",
    "    print(\"Python version:\\t\\t\", sys.version[:5])\n",
    "\n",
    "if int(tf.__version__[0]) != 1:\n",
    "    print('WARNING: Your are using TensorFlow version: ' + tf.__version__)\n",
    "else:\n",
    "    print('TensorFlow version:\\t', tf.__version__)\n",
    "\n",
    "if int(keras.__version__[0]) != 2:\n",
    "    print('WARNING: Your are using Keras version: ' + keras.__version__)\n",
    "else:\n",
    "    print('Keras version:\\t\\t', keras.__version__)"
   ]
  },
  {
   "cell_type": "code",
   "execution_count": null,
   "metadata": {
    "collapsed": true
   },
   "outputs": [],
   "source": []
  }
 ],
 "metadata": {
  "kernelspec": {
   "display_name": "Python 3",
   "language": "python",
   "name": "python3"
  },
  "language_info": {
   "codemirror_mode": {
    "name": "ipython",
    "version": 3
   },
   "file_extension": ".py",
   "mimetype": "text/x-python",
   "name": "python",
   "nbconvert_exporter": "python",
   "pygments_lexer": "ipython3",
   "version": "3.5.4"
  }
 },
 "nbformat": 4,
 "nbformat_minor": 1
}
